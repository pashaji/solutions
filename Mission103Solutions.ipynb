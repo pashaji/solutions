import pandas as pd
import matplotlib.pplot as plt
%matolotlib inline
recent_grads = pd.read_csv("recent-grades.csv")
recent_grades.head()

  
     
